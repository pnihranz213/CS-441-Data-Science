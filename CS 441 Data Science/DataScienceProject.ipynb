{
  "cells": [
    {
      "cell_type": "code",
      "execution_count": null,
      "metadata": {
        "colab": {
          "base_uri": "https://localhost:8080/"
        },
        "id": "yQ7euJbxsKad",
        "outputId": "fbcd8b32-57fe-4a72-9180-6bf46b0cb09a"
      },
      "outputs": [
        {
          "output_type": "stream",
          "name": "stdout",
          "text": [
            "Mounted at /content/gdrive\n"
          ]
        }
      ],
      "source": [
        "\n",
        "import pandas as pd\n",
        "import numpy as np\n",
        "import matplotlib.pyplot as plt\n",
        "from google.colab import drive\n",
        "drive.mount(\"/content/gdrive\")"
      ]
    },
    {
      "cell_type": "code",
      "execution_count": null,
      "metadata": {
        "colab": {
          "base_uri": "https://localhost:8080/"
        },
        "id": "Au0S4TluVhAR",
        "outputId": "dee1949e-1615-4018-f392-ba2c6a35760e"
      },
      "outputs": [
        {
          "output_type": "stream",
          "name": "stderr",
          "text": [
            "/usr/local/lib/python3.8/dist-packages/IPython/core/interactiveshell.py:3326: DtypeWarning: Columns (12,13,14,15,19,20,81,83,85,87,93,94,95,96,97,98,99,100,105,106,108,109,111,112,114,115,117,118,120,121,123,124,126,127,129,130,132,133,135,136,138,139,141,142,144,145,147,148,150,151,153,154,156,157,160) have mixed types.Specify dtype option on import or set low_memory=False.\n",
            "  exec(code_obj, self.user_global_ns, self.user_ns)\n"
          ]
        }
      ],
      "source": [
        "baseball = pd.read_csv(r\"/content/gdrive/My Drive/game_logs.csv\")\n",
        "df = pd.read_csv(r\"/content/gdrive/My Drive/game_logs.csv\")\n"
      ]
    },
    {
      "cell_type": "code",
      "execution_count": null,
      "metadata": {
        "colab": {
          "base_uri": "https://localhost:8080/"
        },
        "id": "XptN1mzrczRt",
        "outputId": "b5606d39-45ca-4563-904c-3c56a7e79fca"
      },
      "outputs": [
        {
          "output_type": "execute_result",
          "data": {
            "text/plain": [
              "array(['date', 'number_of_game', 'day_of_week', 'v_name', 'v_league',\n",
              "       'v_game_number', 'h_name', 'h_league', 'h_game_number', 'v_score',\n",
              "       'h_score', 'length_outs', 'day_night', 'completion', 'forefeit',\n",
              "       'protest', 'park_id', 'attendance', 'length_minutes',\n",
              "       'v_line_score', 'h_line_score', 'v_at_bats', 'v_hits', 'v_doubles',\n",
              "       'v_triples', 'v_homeruns', 'v_rbi', 'v_sacrifice_hits',\n",
              "       'v_sacrifice_flies', 'v_hit_by_pitch', 'v_walks',\n",
              "       'v_intentional walks', 'v_strikeouts', 'v_stolen_bases',\n",
              "       'v_caught_stealing', 'v_grounded_into_double',\n",
              "       'v_first_catcher_interference', 'v_left_on_base',\n",
              "       'v_pitchers_used', 'v_individual_earned_runs',\n",
              "       'v_team_earned_runs', 'v_wild_pitches', 'v_balks', 'v_putouts',\n",
              "       'v_assists', 'v_errors', 'v_passed_balls', 'v_double_plays',\n",
              "       'v_triple_plays', 'h_at_bats', 'h_hits', 'h_doubles', 'h_triples',\n",
              "       'h_homeruns', 'h_rbi', 'h_sacrifice_hits', 'h_sacrifice_flies',\n",
              "       'h_hit_by_pitch', 'h_walks', 'h_intentional walks', 'h_strikeouts',\n",
              "       'h_stolen_bases', 'h_caught_stealing', 'h_grounded_into_double',\n",
              "       'h_first_catcher_interference', 'h_left_on_base',\n",
              "       'h_pitchers_used', 'h_individual_earned_runs',\n",
              "       'h_team_earned_runs', 'h_wild_pitches', 'h_balks', 'h_putouts',\n",
              "       'h_assists', 'h_errors', 'h_passed_balls', 'h_double_plays',\n",
              "       'h_triple_plays', 'hp_umpire_id', 'hp_umpire_name', '1b_umpire_id',\n",
              "       '1b_umpire_name', '2b_umpire_id', '2b_umpire_name', '3b_umpire_id',\n",
              "       '3b_umpire_name', 'lf_umpire_id', 'lf_umpire_name', 'rf_umpire_id',\n",
              "       'rf_umpire_name', 'v_manager_id', 'v_manager_name', 'h_manager_id',\n",
              "       'h_manager_name', 'winning_pitcher_id', 'winning_pitcher_name',\n",
              "       'losing_pitcher_id', 'losing_pitcher_name', 'saving_pitcher_id',\n",
              "       'saving_pitcher_name', 'winning_rbi_batter_id',\n",
              "       'winning_rbi_batter_id_name', 'v_starting_pitcher_id',\n",
              "       'v_starting_pitcher_name', 'h_starting_pitcher_id',\n",
              "       'h_starting_pitcher_name', 'v_player_1_id', 'v_player_1_name',\n",
              "       'v_player_1_def_pos', 'v_player_2_id', 'v_player_2_name',\n",
              "       'v_player_2_def_pos', 'v_player_3_id', 'v_player_3_name',\n",
              "       'v_player_3_def_pos', 'v_player_4_id', 'v_player_4_name',\n",
              "       'v_player_4_def_pos', 'v_player_5_id', 'v_player_5_name',\n",
              "       'v_player_5_def_pos', 'v_player_6_id', 'v_player_6_name',\n",
              "       'v_player_6_def_pos', 'v_player_7_id', 'v_player_7_name',\n",
              "       'v_player_7_def_pos', 'v_player_8_id', 'v_player_8_name',\n",
              "       'v_player_8_def_pos', 'v_player_9_id', 'v_player_9_name',\n",
              "       'v_player_9_def_pos', 'h_player_1_id', 'h_player_1_name',\n",
              "       'h_player_1_def_pos', 'h_player_2_id', 'h_player_2_name',\n",
              "       'h_player_2_def_pos', 'h_player_3_id', 'h_player_3_name',\n",
              "       'h_player_3_def_pos', 'h_player_4_id', 'h_player_4_name',\n",
              "       'h_player_4_def_pos', 'h_player_5_id', 'h_player_5_name',\n",
              "       'h_player_5_def_pos', 'h_player_6_id', 'h_player_6_name',\n",
              "       'h_player_6_def_pos', 'h_player_7_id', 'h_player_7_name',\n",
              "       'h_player_7_def_pos', 'h_player_8_id', 'h_player_8_name',\n",
              "       'h_player_8_def_pos', 'h_player_9_id', 'h_player_9_name',\n",
              "       'h_player_9_def_pos', 'additional_info', 'acquisition_info'],\n",
              "      dtype=object)"
            ]
          },
          "metadata": {},
          "execution_count": 3
        }
      ],
      "source": [
        "baseball.columns.values"
      ]
    },
    {
      "cell_type": "code",
      "execution_count": null,
      "metadata": {
        "colab": {
          "base_uri": "https://localhost:8080/",
          "height": 424
        },
        "id": "CX6gxKeUc_aZ",
        "outputId": "16d61526-de54-4e1d-f17d-f52d2c4fb8e2"
      },
      "outputs": [
        {
          "output_type": "execute_result",
          "data": {
            "text/plain": [
              "              date  attendance\n",
              "0       18710504.0       200.0\n",
              "1       18710505.0      5000.0\n",
              "2       18710506.0      1000.0\n",
              "3       18710508.0      5000.0\n",
              "4       18710509.0      3250.0\n",
              "...            ...         ...\n",
              "171902  20161002.0     27762.0\n",
              "171903  20161002.0     36935.0\n",
              "171904  20161002.0     41445.0\n",
              "171905  20161002.0     44615.0\n",
              "171906  20161002.0     28730.0\n",
              "\n",
              "[171907 rows x 2 columns]"
            ],
            "text/html": [
              "\n",
              "  <div id=\"df-841f4a16-b395-4119-bfae-3bdf8aa7b9df\">\n",
              "    <div class=\"colab-df-container\">\n",
              "      <div>\n",
              "<style scoped>\n",
              "    .dataframe tbody tr th:only-of-type {\n",
              "        vertical-align: middle;\n",
              "    }\n",
              "\n",
              "    .dataframe tbody tr th {\n",
              "        vertical-align: top;\n",
              "    }\n",
              "\n",
              "    .dataframe thead th {\n",
              "        text-align: right;\n",
              "    }\n",
              "</style>\n",
              "<table border=\"1\" class=\"dataframe\">\n",
              "  <thead>\n",
              "    <tr style=\"text-align: right;\">\n",
              "      <th></th>\n",
              "      <th>date</th>\n",
              "      <th>attendance</th>\n",
              "    </tr>\n",
              "  </thead>\n",
              "  <tbody>\n",
              "    <tr>\n",
              "      <th>0</th>\n",
              "      <td>18710504.0</td>\n",
              "      <td>200.0</td>\n",
              "    </tr>\n",
              "    <tr>\n",
              "      <th>1</th>\n",
              "      <td>18710505.0</td>\n",
              "      <td>5000.0</td>\n",
              "    </tr>\n",
              "    <tr>\n",
              "      <th>2</th>\n",
              "      <td>18710506.0</td>\n",
              "      <td>1000.0</td>\n",
              "    </tr>\n",
              "    <tr>\n",
              "      <th>3</th>\n",
              "      <td>18710508.0</td>\n",
              "      <td>5000.0</td>\n",
              "    </tr>\n",
              "    <tr>\n",
              "      <th>4</th>\n",
              "      <td>18710509.0</td>\n",
              "      <td>3250.0</td>\n",
              "    </tr>\n",
              "    <tr>\n",
              "      <th>...</th>\n",
              "      <td>...</td>\n",
              "      <td>...</td>\n",
              "    </tr>\n",
              "    <tr>\n",
              "      <th>171902</th>\n",
              "      <td>20161002.0</td>\n",
              "      <td>27762.0</td>\n",
              "    </tr>\n",
              "    <tr>\n",
              "      <th>171903</th>\n",
              "      <td>20161002.0</td>\n",
              "      <td>36935.0</td>\n",
              "    </tr>\n",
              "    <tr>\n",
              "      <th>171904</th>\n",
              "      <td>20161002.0</td>\n",
              "      <td>41445.0</td>\n",
              "    </tr>\n",
              "    <tr>\n",
              "      <th>171905</th>\n",
              "      <td>20161002.0</td>\n",
              "      <td>44615.0</td>\n",
              "    </tr>\n",
              "    <tr>\n",
              "      <th>171906</th>\n",
              "      <td>20161002.0</td>\n",
              "      <td>28730.0</td>\n",
              "    </tr>\n",
              "  </tbody>\n",
              "</table>\n",
              "<p>171907 rows × 2 columns</p>\n",
              "</div>\n",
              "      <button class=\"colab-df-convert\" onclick=\"convertToInteractive('df-841f4a16-b395-4119-bfae-3bdf8aa7b9df')\"\n",
              "              title=\"Convert this dataframe to an interactive table.\"\n",
              "              style=\"display:none;\">\n",
              "        \n",
              "  <svg xmlns=\"http://www.w3.org/2000/svg\" height=\"24px\"viewBox=\"0 0 24 24\"\n",
              "       width=\"24px\">\n",
              "    <path d=\"M0 0h24v24H0V0z\" fill=\"none\"/>\n",
              "    <path d=\"M18.56 5.44l.94 2.06.94-2.06 2.06-.94-2.06-.94-.94-2.06-.94 2.06-2.06.94zm-11 1L8.5 8.5l.94-2.06 2.06-.94-2.06-.94L8.5 2.5l-.94 2.06-2.06.94zm10 10l.94 2.06.94-2.06 2.06-.94-2.06-.94-.94-2.06-.94 2.06-2.06.94z\"/><path d=\"M17.41 7.96l-1.37-1.37c-.4-.4-.92-.59-1.43-.59-.52 0-1.04.2-1.43.59L10.3 9.45l-7.72 7.72c-.78.78-.78 2.05 0 2.83L4 21.41c.39.39.9.59 1.41.59.51 0 1.02-.2 1.41-.59l7.78-7.78 2.81-2.81c.8-.78.8-2.07 0-2.86zM5.41 20L4 18.59l7.72-7.72 1.47 1.35L5.41 20z\"/>\n",
              "  </svg>\n",
              "      </button>\n",
              "      \n",
              "  <style>\n",
              "    .colab-df-container {\n",
              "      display:flex;\n",
              "      flex-wrap:wrap;\n",
              "      gap: 12px;\n",
              "    }\n",
              "\n",
              "    .colab-df-convert {\n",
              "      background-color: #E8F0FE;\n",
              "      border: none;\n",
              "      border-radius: 50%;\n",
              "      cursor: pointer;\n",
              "      display: none;\n",
              "      fill: #1967D2;\n",
              "      height: 32px;\n",
              "      padding: 0 0 0 0;\n",
              "      width: 32px;\n",
              "    }\n",
              "\n",
              "    .colab-df-convert:hover {\n",
              "      background-color: #E2EBFA;\n",
              "      box-shadow: 0px 1px 2px rgba(60, 64, 67, 0.3), 0px 1px 3px 1px rgba(60, 64, 67, 0.15);\n",
              "      fill: #174EA6;\n",
              "    }\n",
              "\n",
              "    [theme=dark] .colab-df-convert {\n",
              "      background-color: #3B4455;\n",
              "      fill: #D2E3FC;\n",
              "    }\n",
              "\n",
              "    [theme=dark] .colab-df-convert:hover {\n",
              "      background-color: #434B5C;\n",
              "      box-shadow: 0px 1px 3px 1px rgba(0, 0, 0, 0.15);\n",
              "      filter: drop-shadow(0px 1px 2px rgba(0, 0, 0, 0.3));\n",
              "      fill: #FFFFFF;\n",
              "    }\n",
              "  </style>\n",
              "\n",
              "      <script>\n",
              "        const buttonEl =\n",
              "          document.querySelector('#df-841f4a16-b395-4119-bfae-3bdf8aa7b9df button.colab-df-convert');\n",
              "        buttonEl.style.display =\n",
              "          google.colab.kernel.accessAllowed ? 'block' : 'none';\n",
              "\n",
              "        async function convertToInteractive(key) {\n",
              "          const element = document.querySelector('#df-841f4a16-b395-4119-bfae-3bdf8aa7b9df');\n",
              "          const dataTable =\n",
              "            await google.colab.kernel.invokeFunction('convertToInteractive',\n",
              "                                                     [key], {});\n",
              "          if (!dataTable) return;\n",
              "\n",
              "          const docLinkHtml = 'Like what you see? Visit the ' +\n",
              "            '<a target=\"_blank\" href=https://colab.research.google.com/notebooks/data_table.ipynb>data table notebook</a>'\n",
              "            + ' to learn more about interactive tables.';\n",
              "          element.innerHTML = '';\n",
              "          dataTable['output_type'] = 'display_data';\n",
              "          await google.colab.output.renderOutput(dataTable, element);\n",
              "          const docLink = document.createElement('div');\n",
              "          docLink.innerHTML = docLinkHtml;\n",
              "          element.appendChild(docLink);\n",
              "        }\n",
              "      </script>\n",
              "    </div>\n",
              "  </div>\n",
              "  "
            ]
          },
          "metadata": {},
          "execution_count": 4
        }
      ],
      "source": [
        "# Grab the date and attendance figures from each\n",
        "decade_average_attend = pd.DataFrame([baseball[\"date\"], baseball[\"attendance\"]]).T\n",
        "decade_average_attend"
      ]
    },
    {
      "cell_type": "code",
      "execution_count": null,
      "metadata": {
        "colab": {
          "base_uri": "https://localhost:8080/"
        },
        "id": "w7dNrQ4WewsA",
        "outputId": "24a22176-a8fe-4029-e94d-d7c2f82480bc"
      },
      "outputs": [
        {
          "output_type": "stream",
          "name": "stdout",
          "text": [
            "[171907, 118877]\n"
          ]
        }
      ],
      "source": [
        "daa_lengths = []\n",
        "daa_lengths.append(len(decade_average_attend.index))\n",
        "\n",
        "decade_average_attend.dropna(inplace = True)\n",
        "decade_average_attend[\"decade\"] = decade_average_attend.apply( lambda x: int(str(x[\"date\"])[0:3] + \"0\") ,axis=1)\n",
        "\n",
        "daa_lengths.append(len(decade_average_attend.index))\n",
        "print(daa_lengths)"
      ]
    },
    {
      "cell_type": "code",
      "execution_count": null,
      "metadata": {
        "colab": {
          "base_uri": "https://localhost:8080/"
        },
        "id": "iOKn0__8gEPt",
        "outputId": "55614928-030a-40a4-87d0-aea30a1b526c"
      },
      "outputs": [
        {
          "output_type": "execute_result",
          "data": {
            "text/plain": [
              "decade\n",
              "1870      791\n",
              "1880      163\n",
              "1890      851\n",
              "1900      157\n",
              "1910     5084\n",
              "1920     4850\n",
              "1930     5537\n",
              "1940    11572\n",
              "1950    12278\n",
              "1960    15961\n",
              "1980    20337\n",
              "2000    24291\n",
              "2010    17005\n",
              "Name: date, dtype: int64"
            ]
          },
          "metadata": {},
          "execution_count": 6
        }
      ],
      "source": [
        "# Total number of games by decade. There is no game information from the 1970's or the 1990's\n",
        "decade_average_attend.groupby(\"decade\")[\"date\"].count()"
      ]
    },
    {
      "cell_type": "code",
      "execution_count": null,
      "metadata": {
        "colab": {
          "base_uri": "https://localhost:8080/",
          "height": 296
        },
        "id": "N6W52HeAkQ4V",
        "outputId": "51e8c7f0-33a1-4dba-a4b6-3ae3c4eddf25"
      },
      "outputs": [
        {
          "output_type": "execute_result",
          "data": {
            "text/plain": [
              "<matplotlib.axes._subplots.AxesSubplot at 0x7fefa5808040>"
            ]
          },
          "metadata": {},
          "execution_count": 7
        },
        {
          "output_type": "display_data",
          "data": {
            "text/plain": [
              "<Figure size 432x288 with 1 Axes>"
            ],
            "image/png": "[encoded data removed]"
          },
          "metadata": {
            "needs_background": "light"
          }
        }
      ],
      "source": [
        "# Decade vs. Average Attendance of Baseball Games\n",
        "# Note: 1870's are only 1871-1879 and 2010's are only 2010-2016\n",
        "decade_average_attend.groupby(\"decade\")[\"attendance\"].mean().plot.line()"
      ]
    },
    {
      "cell_type": "markdown",
      "source": [
        "= Yearly Homeruns ="
      ],
      "metadata": {
        "id": "QGAdrMSntvzr"
      }
    },
    {
      "cell_type": "code",
      "source": [
        "yearly_homeruns = pd.DataFrame([baseball[\"date\"], baseball[\"v_homeruns\"], baseball[\"h_homeruns\"]]).T.dropna()\n",
        "yearly_homeruns.iloc[0]"
      ],
      "metadata": {
        "colab": {
          "base_uri": "https://localhost:8080/"
        },
        "id": "qoxuq0QutuD_",
        "outputId": "7796c6f3-005a-49e9-c171-3a0908fa6295"
      },
      "execution_count": null,
      "outputs": [
        {
          "output_type": "execute_result",
          "data": {
            "text/plain": [
              "date          18710504.0\n",
              "v_homeruns           0.0\n",
              "h_homeruns           0.0\n",
              "Name: 0, dtype: float64"
            ]
          },
          "metadata": {},
          "execution_count": 8
        }
      ]
    },
    {
      "cell_type": "code",
      "source": [
        "yearly_homeruns[\"year\"] = yearly_homeruns.apply( lambda x: int(str(x[\"date\"])[0:4]) ,axis=1)\n",
        "yearly_homeruns[\"homeruns\"] = yearly_homeruns.apply( lambda x: x[\"v_homeruns\"] + x[\"h_homeruns\"] ,axis=1)\n",
        "\n",
        "yearly_homeruns.iloc[0]"
      ],
      "metadata": {
        "colab": {
          "base_uri": "https://localhost:8080/"
        },
        "id": "g2rYzWr3u8Ma",
        "outputId": "150c58c9-fb3c-4333-c6c8-8a18ae0cf259"
      },
      "execution_count": null,
      "outputs": [
        {
          "output_type": "execute_result",
          "data": {
            "text/plain": [
              "date          18710504.0\n",
              "v_homeruns           0.0\n",
              "h_homeruns           0.0\n",
              "year              1871.0\n",
              "homeruns             0.0\n",
              "Name: 0, dtype: float64"
            ]
          },
          "metadata": {},
          "execution_count": 9
        }
      ]
    },
    {
      "cell_type": "code",
      "source": [
        "yhome = pd.DataFrame(yearly_homeruns.groupby(\"year\")[\"homeruns\"].sum())\n",
        "yhome[\"games\"] = yearly_homeruns.groupby(\"year\")[\"homeruns\"].count()\n",
        "yhome.plot.line()"
      ],
      "metadata": {
        "colab": {
          "base_uri": "https://localhost:8080/",
          "height": 296
        },
        "id": "_Ys_D36VwD65",
        "outputId": "f625223a-45c0-4ec9-f96e-33d5c651f7b2"
      },
      "execution_count": null,
      "outputs": [
        {
          "output_type": "execute_result",
          "data": {
            "text/plain": [
              "<matplotlib.axes._subplots.AxesSubplot at 0x7fefa57f57f0>"
            ]
          },
          "metadata": {},
          "execution_count": 10
        },
        {
          "output_type": "display_data",
          "data": {
            "text/plain": [
              "<Figure size 432x288 with 1 Axes>"
            ],
            "image/png": "[encoded data removed]"
          },
          "metadata": {
            "needs_background": "light"
          }
        }
      ]
    },
    {
      "cell_type": "markdown",
      "source": [
        "= Average Length of a Game During Each Day of the Week ="
      ],
      "metadata": {
        "id": "U0_8TfKs1fX1"
      }
    },
    {
      "cell_type": "code",
      "source": [
        "length_day = pd.DataFrame([baseball[\"day_of_week\"], baseball[\"length_minutes\"]]).T.dropna()\n",
        "lenday = length_day.groupby(\"day_of_week\")[\"length_minutes\"].mean()\n",
        "lenday"
      ],
      "metadata": {
        "colab": {
          "base_uri": "https://localhost:8080/"
        },
        "id": "urKXpL3Y2C0G",
        "outputId": "82e037a0-3f46-43da-b8be-cc3dff58a981"
      },
      "execution_count": null,
      "outputs": [
        {
          "output_type": "execute_result",
          "data": {
            "text/plain": [
              "day_of_week\n",
              "Fri    153.228373\n",
              "Mon    149.222579\n",
              "Sat    150.857085\n",
              "Sun    150.890680\n",
              "Thu    148.057070\n",
              "Tue    151.884151\n",
              "Wed    151.196813\n",
              "Name: length_minutes, dtype: float64"
            ]
          },
          "metadata": {},
          "execution_count": 11
        }
      ]
    },
    {
      "cell_type": "code",
      "source": [
        "yearly_hits = pd.DataFrame([baseball[\"date\"], baseball[\"v_hits\"], baseball[\"h_hits\"]]).T.dropna()\n",
        "yearly_hits.iloc[0]"
      ],
      "metadata": {
        "colab": {
          "base_uri": "https://localhost:8080/"
        },
        "id": "lGJtzTlOAiSO",
        "outputId": "fe97db32-ffab-4f9f-b07a-7cc05776b2ed"
      },
      "execution_count": null,
      "outputs": [
        {
          "output_type": "execute_result",
          "data": {
            "text/plain": [
              "date      18710504.0\n",
              "v_hits           4.0\n",
              "h_hits           4.0\n",
              "Name: 0, dtype: float64"
            ]
          },
          "metadata": {},
          "execution_count": 12
        }
      ]
    },
    {
      "cell_type": "code",
      "source": [
        "yearly_hits[\"year\"] = yearly_hits.apply( lambda x: int(str(x[\"date\"])[0:4]) ,axis=1)\n",
        "yearly_hits[\"hits\"] = yearly_hits.apply( lambda x: x[\"v_hits\"] + x[\"h_hits\"] ,axis=1)\n",
        "\n",
        "yearly_hits.iloc[0]"
      ],
      "metadata": {
        "colab": {
          "base_uri": "https://localhost:8080/"
        },
        "id": "if1TQGehCSai",
        "outputId": "01ee0d7f-e30a-4d67-d5e7-97e239d6d50a"
      },
      "execution_count": null,
      "outputs": [
        {
          "output_type": "execute_result",
          "data": {
            "text/plain": [
              "date      18710504.0\n",
              "v_hits           4.0\n",
              "h_hits           4.0\n",
              "year          1871.0\n",
              "hits             8.0\n",
              "Name: 0, dtype: float64"
            ]
          },
          "metadata": {},
          "execution_count": 13
        }
      ]
    },
    {
      "cell_type": "code",
      "source": [
        "hits_df = pd.DataFrame(yearly_hits.groupby(\"year\")[\"hits\"].sum())\n",
        "hits_df.plot.line()"
      ],
      "metadata": {
        "colab": {
          "base_uri": "https://localhost:8080/",
          "height": 296
        },
        "id": "Nz7xOaSaDRuK",
        "outputId": "6fe82154-7ba3-4a84-a52d-f0d60c69011a"
      },
      "execution_count": null,
      "outputs": [
        {
          "output_type": "execute_result",
          "data": {
            "text/plain": [
              "<matplotlib.axes._subplots.AxesSubplot at 0x7fefa3a25550>"
            ]
          },
          "metadata": {},
          "execution_count": 14
        },
        {
          "output_type": "display_data",
          "data": {
            "text/plain": [
              "<Figure size 432x288 with 1 Axes>"
            ],
            "image/png": "[encoded data removed]"
          },
          "metadata": {
            "needs_background": "light"
          }
        }
      ]
    },
    {
      "cell_type": "code",
      "source": [
        "yearly_double_plays = pd.DataFrame([baseball[\"date\"], baseball[\"v_double_plays\"], baseball[\"h_double_plays\"]]).T.dropna()\n",
        "yearly_double_plays[\"year\"] = yearly_double_plays.apply( lambda x: int(str(x[\"date\"])[0:4]) ,axis=1)\n",
        "yearly_double_plays[\"double_plays\"] = yearly_double_plays.apply( lambda x: x[\"v_double_plays\"] + x[\"h_double_plays\"] ,axis=1)\n",
        "double_plays_df = pd.DataFrame(yearly_double_plays.groupby(\"year\")[\"double_plays\"].sum())\n",
        "double_plays_df.plot.line()\n",
        "yearly_strikeouts = pd.DataFrame([baseball[\"date\"], baseball[\"v_strikeouts\"], baseball[\"h_strikeouts\"]]).T.dropna()\n",
        "yearly_strikeouts[\"year\"] = yearly_strikeouts.apply( lambda x: int(str(x[\"date\"])[0:4]) ,axis=1)\n",
        "yearly_strikeouts[\"strikeouts\"] = yearly_strikeouts.apply( lambda x: x[\"v_strikeouts\"] + x[\"h_strikeouts\"] ,axis=1)\n",
        "strikeouts_df = pd.DataFrame(yearly_strikeouts.groupby(\"year\")[\"strikeouts\"].sum())\n",
        "strikeouts_df.plot.line()"
      ],
      "metadata": {
        "colab": {
          "base_uri": "https://localhost:8080/",
          "height": 558
        },
        "id": "p2QIo6H1GI7x",
        "outputId": "d12978f6-e152-41f3-b136-11ee2dcdfc17"
      },
      "execution_count": null,
      "outputs": [
        {
          "output_type": "execute_result",
          "data": {
            "text/plain": [
              "<matplotlib.axes._subplots.AxesSubplot at 0x7fefa3a49ee0>"
            ]
          },
          "metadata": {},
          "execution_count": 15
        },
        {
          "output_type": "display_data",
          "data": {
            "text/plain": [
              "<Figure size 432x288 with 1 Axes>"
            ],
            "image/png": "[encoded data removed]"
          },
          "metadata": {
            "needs_background": "light"
          }
        },
        {
          "output_type": "display_data",
          "data": {
            "text/plain": [
              "<Figure size 432x288 with 1 Axes>"
            ],
            "image/png": "[encoded data removed]"
          },
          "metadata": {
            "needs_background": "light"
          }
        }
      ]
    },
    {
      "cell_type": "code",
      "source": [],
      "metadata": {
        "id": "TUSRBIfrhSSt"
      },
      "execution_count": null,
      "outputs": []
    },
    {
      "cell_type": "markdown",
      "source": [
        "# Steroid Era Comparisons"
      ],
      "metadata": {
        "id": "C6oniTCiqle-"
      }
    },
    {
      "cell_type": "code",
      "source": [
        "df['date'] = pd.to_datetime(df['date'], format='%Y%m%d')\n",
        "stats = df.set_index('date')\n",
        "pd.set_option('max_columns', None)"
      ],
      "metadata": {
        "id": "a5Bvjdmiqn8g"
      },
      "execution_count": null,
      "outputs": []
    },
    {
      "cell_type": "code",
      "source": [
        "steroid = stats['2000':'2003']\n",
        "regulated = stats['2010':'2013']\n",
        "# All homeruns from the steroid era and the average\n",
        "HRSteroid = steroid['v_homeruns'] + steroid['h_homeruns']\n",
        "avgHRS = HRSteroid.mean()\n",
        "# All homeruns from 10 years later to compare against the steroid era and the average\n",
        "HRRegulated = regulated['v_homeruns'] + regulated['h_homeruns']\n",
        "avgHRR = HRRegulated.mean()\n",
        "# Setup for the bar chart\n",
        "AVGS = [avgHRS,avgHRR]\n",
        "YEARS = ['2000-2003','2010-2013']\n",
        "# Bar Chart Viusualization\n",
        "\n",
        "print(avgHRS)\n",
        "print(avgHRR)\n",
        "\n",
        "\n",
        "plt.barh(YEARS,AVGS)\n",
        "plt.show()\n"
      ],
      "metadata": {
        "colab": {
          "base_uri": "https://localhost:8080/",
          "height": 387
        },
        "id": "cYBmNjKxrHfR",
        "outputId": "6bc9d9b6-3fd1-4e63-ceeb-fec020fc3a2f"
      },
      "execution_count": null,
      "outputs": [
        {
          "output_type": "stream",
          "name": "stdout",
          "text": [
            "2.204756022235948\n",
            "1.9300411522633745\n"
          ]
        },
        {
          "output_type": "stream",
          "name": "stderr",
          "text": [
            "<ipython-input-13-71a70cc19bdc>:1: FutureWarning: Value based partial slicing on non-monotonic DatetimeIndexes with non-existing keys is deprecated and will raise a KeyError in a future Version.\n",
            "  steroid = stats['2000':'2003']\n",
            "<ipython-input-13-71a70cc19bdc>:2: FutureWarning: Value based partial slicing on non-monotonic DatetimeIndexes with non-existing keys is deprecated and will raise a KeyError in a future Version.\n",
            "  regulated = stats['2010':'2013']\n"
          ]
        },
        {
          "output_type": "display_data",
          "data": {
            "text/plain": [
              "<Figure size 432x288 with 1 Axes>"
            ],
            "image/png": "[encoded data removed]"
          },
          "metadata": {
            "needs_background": "light"
          }
        }
      ]
    },
    {
      "cell_type": "code",
      "source": [
        "# Strikeouts from each era\n",
        "strikeouts1 = steroid['v_strikeouts']+steroid['h_strikeouts']\n",
        "strikeout2 = regulated['v_strikeouts']+regulated['h_strikeouts']\n",
        "#Strikeouts per game\n",
        "avgstrike1 = strikeouts1.mean()\n",
        "avgstrikes2 = strikeout2.mean()\n",
        "averageStrikeouts = [avgstrike1,avgstrikes2]\n",
        "#Chart\n",
        "plt.barh(YEARS,averageStrikeouts)\n",
        "plt.show()\n",
        "print(avgstrike1)\n",
        "print(avgstrikes2)"
      ],
      "metadata": {
        "colab": {
          "base_uri": "https://localhost:8080/",
          "height": 299
        },
        "id": "Wnp3zgZVvEhF",
        "outputId": "8800e234-6dc1-4a46-e08f-515a2be9ba8f"
      },
      "execution_count": null,
      "outputs": [
        {
          "output_type": "display_data",
          "data": {
            "text/plain": [
              "<Figure size 432x288 with 1 Axes>"
            ],
            "image/png": "[encoded data removed]"
          },
          "metadata": {
            "needs_background": "light"
          }
        },
        {
          "output_type": "stream",
          "name": "stdout",
          "text": [
            "12.966337245213095\n",
            "14.601851851851851\n"
          ]
        }
      ]
    },
    {
      "cell_type": "code",
      "source": [
        "hitsSteroid = steroid['v_hits'] + steroid['h_hits']\n",
        "avgHitsRoid = hitsSteroid.mean()\n",
        "# All hits from 10 years later to compare against the steroid era and the average\n",
        "hitsRegulated = regulated['v_hits'] + regulated['h_hits']\n",
        "avgHitsR = hitsRegulated.mean()\n",
        "# Setup for the bar chart\n",
        "AVGSHits = [avgHitsRoid,avgHitsR]\n",
        "YEARSHits = ['2000-2003','2010-2013']\n",
        "# Bar Chart Viusualization\n",
        "\n",
        "print(avgHitsRoid)\n",
        "print(avgHitsR)\n",
        "plt.barh(YEARSHits,AVGSHits)\n"
      ],
      "metadata": {
        "colab": {
          "base_uri": "https://localhost:8080/",
          "height": 316
        },
        "id": "Ad5tklgs2-Et",
        "outputId": "f62a196c-e817-4691-8fb7-b4335a908507"
      },
      "execution_count": null,
      "outputs": [
        {
          "output_type": "stream",
          "name": "stdout",
          "text": [
            "18.164916615194564\n",
            "17.384465020576133\n"
          ]
        },
        {
          "output_type": "execute_result",
          "data": {
            "text/plain": [
              "<BarContainer object of 2 artists>"
            ]
          },
          "metadata": {},
          "execution_count": 11
        },
        {
          "output_type": "display_data",
          "data": {
            "text/plain": [
              "<Figure size 432x288 with 1 Axes>"
            ],
            "image/png": "[encoded data removed]"
          },
          "metadata": {
            "needs_background": "light"
          }
        }
      ]
    }
  ],
  "metadata": {
    "colab": {
      "provenance": []
    },
    "kernelspec": {
      "display_name": "Python 3",
      "name": "python3"
    },
    "language_info": {
      "name": "python"
    }
  },
  "nbformat": 4,
  "nbformat_minor": 0
}