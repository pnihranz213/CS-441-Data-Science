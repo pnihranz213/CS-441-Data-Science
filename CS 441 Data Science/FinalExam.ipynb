{
  "nbformat": 4,
  "nbformat_minor": 0,
  "metadata": {
    "colab": {
      "provenance": []
    },
    "kernelspec": {
      "name": "python3",
      "display_name": "Python 3"
    },
    "language_info": {
      "name": "python"
    }
  },
  "cells": [
    {
      "cell_type": "code",
      "execution_count": null,
      "metadata": {
        "id": "pQO7aki81Qy7"
      },
      "outputs": [],
      "source": [
        "import numpy as np\n",
        "import random\n",
        "import pandas as pd"
      ]
    },
    {
      "cell_type": "code",
      "source": [
        "#Number 1\n",
        "line = np.array([random.randint(0,9),random.randint(0,9),random.randint(0,9),random.randint(0,9),random.randint(0,9),random.randint(0,9),random.randint(0,9),random.randint(0,9),random.randint(0,9),random.randint(0,9)])\n",
        "row = np.ones(10).reshape(10,1)\n",
        "result = line*row\n",
        "for i in range (1,10):\n",
        "  result[i] = result[i]*random.randint(0,9)\n",
        "result"
      ],
      "metadata": {
        "colab": {
          "base_uri": "https://localhost:8080/"
        },
        "id": "gmRKROES1v43",
        "outputId": "d5879232-c3d6-4f3d-ac8a-26691cc618d0"
      },
      "execution_count": null,
      "outputs": [
        {
          "output_type": "execute_result",
          "data": {
            "text/plain": [
              "array([[ 4.,  5.,  0.,  6.,  1.,  1.,  0.,  9.,  0.,  8.],\n",
              "       [24., 30.,  0., 36.,  6.,  6.,  0., 54.,  0., 48.],\n",
              "       [20., 25.,  0., 30.,  5.,  5.,  0., 45.,  0., 40.],\n",
              "       [12., 15.,  0., 18.,  3.,  3.,  0., 27.,  0., 24.],\n",
              "       [16., 20.,  0., 24.,  4.,  4.,  0., 36.,  0., 32.],\n",
              "       [32., 40.,  0., 48.,  8.,  8.,  0., 72.,  0., 64.],\n",
              "       [ 4.,  5.,  0.,  6.,  1.,  1.,  0.,  9.,  0.,  8.],\n",
              "       [36., 45.,  0., 54.,  9.,  9.,  0., 81.,  0., 72.],\n",
              "       [ 8., 10.,  0., 12.,  2.,  2.,  0., 18.,  0., 16.],\n",
              "       [ 8., 10.,  0., 12.,  2.,  2.,  0., 18.,  0., 16.]])"
            ]
          },
          "metadata": {},
          "execution_count": 4
        }
      ]
    },
    {
      "cell_type": "code",
      "source": [
        "#Number 2\n",
        "sum = 0\n",
        "for i in range (0,10):\n",
        "  sum = sum+result[i,i]\n",
        "sum"
      ],
      "metadata": {
        "colab": {
          "base_uri": "https://localhost:8080/"
        },
        "id": "AyIO3zPC2oC5",
        "outputId": "5f59b961-7dc5-486c-8d24-b210de4a868f"
      },
      "execution_count": null,
      "outputs": [
        {
          "output_type": "execute_result",
          "data": {
            "text/plain": [
              "161.0"
            ]
          },
          "metadata": {},
          "execution_count": 7
        }
      ]
    },
    {
      "cell_type": "code",
      "source": [
        "#Number 3\n",
        "movie_dict = {'name':['Star Wars','Avatar','James Bond'],\n",
        "              'release_year':[1977,2009,1964]}\n",
        "room_dict = {'room_num':[1,2,3],\n",
        "             'capacity':[10,12,15]}\n",
        "projection_dict = {'projection_id':[1,2,3],\n",
        "                   'date':['12-08-2022','12-08-2022','12-09-2022'],\n",
        "                   'time':[20,21,20],\n",
        "                   'room_num':[1,2,3],\n",
        "                   'movie_name':['Avatar','Star Wars','James Bond']}\n",
        "ticket_dict = {'projection_id':[1,2,3],\n",
        "               'price':[10,13,11]}\n",
        "movieDF = pd.DataFrame(movie_dict)\n",
        "roomDF = pd.DataFrame(room_dict)\n",
        "projectionDF = pd.DataFrame(projection_dict)\n",
        "ticketDF = pd.DataFrame(ticket_dict)"
      ],
      "metadata": {
        "id": "DUbPXyYx2-WM"
      },
      "execution_count": null,
      "outputs": []
    },
    {
      "cell_type": "code",
      "source": [
        "#Number 4\n",
        "result = pd.merge(roomDF,projectionDF,left_on='room_num',right_on='room_num',how='left')\n",
        "resultDF = pd.merge(result,ticketDF,left_on='projection_id',right_on='projection_id',how='left')\n",
        "theaterDF = pd.merge(resultDF,movieDF,left_on='movie_name',right_on='name',how='left')\n",
        "occupancy = theaterDF.groupby(['room_num'])['projection_id'].count().to_frame()\n",
        "occupancy.reset_index(inplace=False,drop=True)\n",
        "occupancyDF = pd.merge(roomDF,occupancy,left_on='room_num',right_on='room_num',how='left')\n",
        "occupancyDF = occupancyDF.rename(columns ={'room_num':'room','capacity':'capcity','projection_id':'tickets_sold'})\n",
        "occupancyDF['occupancy_rate']=occupancyDF['tickets_sold']/occupancyDF['capcity']\n",
        "occupancyDF.sort_values(by='occupancy_rate',ascending=False)\n"
      ],
      "metadata": {
        "colab": {
          "base_uri": "https://localhost:8080/",
          "height": 143
        },
        "id": "VdVvUmEj6D2Y",
        "outputId": "d650f458-1942-4e8a-93c0-9772252d2403"
      },
      "execution_count": null,
      "outputs": [
        {
          "output_type": "execute_result",
          "data": {
            "text/plain": [
              "   room  capcity  tickets_sold  occupancy_rate\n",
              "0     1       10             1        0.100000\n",
              "1     2       12             1        0.083333\n",
              "2     3       15             1        0.066667"
            ],
            "text/html": [
              "\n",
              "  <div id=\"df-9ac093ba-f4da-47e7-9436-eeb615a6e927\">\n",
              "    <div class=\"colab-df-container\">\n",
              "      <div>\n",
              "<style scoped>\n",
              "    .dataframe tbody tr th:only-of-type {\n",
              "        vertical-align: middle;\n",
              "    }\n",
              "\n",
              "    .dataframe tbody tr th {\n",
              "        vertical-align: top;\n",
              "    }\n",
              "\n",
              "    .dataframe thead th {\n",
              "        text-align: right;\n",
              "    }\n",
              "</style>\n",
              "<table border=\"1\" class=\"dataframe\">\n",
              "  <thead>\n",
              "    <tr style=\"text-align: right;\">\n",
              "      <th></th>\n",
              "      <th>room</th>\n",
              "      <th>capcity</th>\n",
              "      <th>tickets_sold</th>\n",
              "      <th>occupancy_rate</th>\n",
              "    </tr>\n",
              "  </thead>\n",
              "  <tbody>\n",
              "    <tr>\n",
              "      <th>0</th>\n",
              "      <td>1</td>\n",
              "      <td>10</td>\n",
              "      <td>1</td>\n",
              "      <td>0.100000</td>\n",
              "    </tr>\n",
              "    <tr>\n",
              "      <th>1</th>\n",
              "      <td>2</td>\n",
              "      <td>12</td>\n",
              "      <td>1</td>\n",
              "      <td>0.083333</td>\n",
              "    </tr>\n",
              "    <tr>\n",
              "      <th>2</th>\n",
              "      <td>3</td>\n",
              "      <td>15</td>\n",
              "      <td>1</td>\n",
              "      <td>0.066667</td>\n",
              "    </tr>\n",
              "  </tbody>\n",
              "</table>\n",
              "</div>\n",
              "      <button class=\"colab-df-convert\" onclick=\"convertToInteractive('df-9ac093ba-f4da-47e7-9436-eeb615a6e927')\"\n",
              "              title=\"Convert this dataframe to an interactive table.\"\n",
              "              style=\"display:none;\">\n",
              "        \n",
              "  <svg xmlns=\"http://www.w3.org/2000/svg\" height=\"24px\"viewBox=\"0 0 24 24\"\n",
              "       width=\"24px\">\n",
              "    <path d=\"M0 0h24v24H0V0z\" fill=\"none\"/>\n",
              "    <path d=\"M18.56 5.44l.94 2.06.94-2.06 2.06-.94-2.06-.94-.94-2.06-.94 2.06-2.06.94zm-11 1L8.5 8.5l.94-2.06 2.06-.94-2.06-.94L8.5 2.5l-.94 2.06-2.06.94zm10 10l.94 2.06.94-2.06 2.06-.94-2.06-.94-.94-2.06-.94 2.06-2.06.94z\"/><path d=\"M17.41 7.96l-1.37-1.37c-.4-.4-.92-.59-1.43-.59-.52 0-1.04.2-1.43.59L10.3 9.45l-7.72 7.72c-.78.78-.78 2.05 0 2.83L4 21.41c.39.39.9.59 1.41.59.51 0 1.02-.2 1.41-.59l7.78-7.78 2.81-2.81c.8-.78.8-2.07 0-2.86zM5.41 20L4 18.59l7.72-7.72 1.47 1.35L5.41 20z\"/>\n",
              "  </svg>\n",
              "      </button>\n",
              "      \n",
              "  <style>\n",
              "    .colab-df-container {\n",
              "      display:flex;\n",
              "      flex-wrap:wrap;\n",
              "      gap: 12px;\n",
              "    }\n",
              "\n",
              "    .colab-df-convert {\n",
              "      background-color: #E8F0FE;\n",
              "      border: none;\n",
              "      border-radius: 50%;\n",
              "      cursor: pointer;\n",
              "      display: none;\n",
              "      fill: #1967D2;\n",
              "      height: 32px;\n",
              "      padding: 0 0 0 0;\n",
              "      width: 32px;\n",
              "    }\n",
              "\n",
              "    .colab-df-convert:hover {\n",
              "      background-color: #E2EBFA;\n",
              "      box-shadow: 0px 1px 2px rgba(60, 64, 67, 0.3), 0px 1px 3px 1px rgba(60, 64, 67, 0.15);\n",
              "      fill: #174EA6;\n",
              "    }\n",
              "\n",
              "    [theme=dark] .colab-df-convert {\n",
              "      background-color: #3B4455;\n",
              "      fill: #D2E3FC;\n",
              "    }\n",
              "\n",
              "    [theme=dark] .colab-df-convert:hover {\n",
              "      background-color: #434B5C;\n",
              "      box-shadow: 0px 1px 3px 1px rgba(0, 0, 0, 0.15);\n",
              "      filter: drop-shadow(0px 1px 2px rgba(0, 0, 0, 0.3));\n",
              "      fill: #FFFFFF;\n",
              "    }\n",
              "  </style>\n",
              "\n",
              "      <script>\n",
              "        const buttonEl =\n",
              "          document.querySelector('#df-9ac093ba-f4da-47e7-9436-eeb615a6e927 button.colab-df-convert');\n",
              "        buttonEl.style.display =\n",
              "          google.colab.kernel.accessAllowed ? 'block' : 'none';\n",
              "\n",
              "        async function convertToInteractive(key) {\n",
              "          const element = document.querySelector('#df-9ac093ba-f4da-47e7-9436-eeb615a6e927');\n",
              "          const dataTable =\n",
              "            await google.colab.kernel.invokeFunction('convertToInteractive',\n",
              "                                                     [key], {});\n",
              "          if (!dataTable) return;\n",
              "\n",
              "          const docLinkHtml = 'Like what you see? Visit the ' +\n",
              "            '<a target=\"_blank\" href=https://colab.research.google.com/notebooks/data_table.ipynb>data table notebook</a>'\n",
              "            + ' to learn more about interactive tables.';\n",
              "          element.innerHTML = '';\n",
              "          dataTable['output_type'] = 'display_data';\n",
              "          await google.colab.output.renderOutput(dataTable, element);\n",
              "          const docLink = document.createElement('div');\n",
              "          docLink.innerHTML = docLinkHtml;\n",
              "          element.appendChild(docLink);\n",
              "        }\n",
              "      </script>\n",
              "    </div>\n",
              "  </div>\n",
              "  "
            ]
          },
          "metadata": {},
          "execution_count": 115
        }
      ]
    },
    {
      "cell_type": "markdown",
      "source": [],
      "metadata": {
        "id": "QiR6D19mWrpw"
      }
    },
    {
      "cell_type": "code",
      "source": [
        "#Number 5\n",
        "result = pd.merge(roomDF,projectionDF,left_on='room_num',right_on='room_num',how='left')\n",
        "resultDF = pd.merge(result,ticketDF,left_on='projection_id',right_on='projection_id',how='left')\n",
        "theaterDF = pd.merge(resultDF,movieDF,left_on='movie_name',right_on='name',how='left')\n",
        "grossing = theaterDF.groupby(['name'])['price'].sum().to_frame()\n",
        "grossing.sort_values(by='price',ascending=False)\n"
      ],
      "metadata": {
        "colab": {
          "base_uri": "https://localhost:8080/",
          "height": 175
        },
        "id": "SZPKQwhh_cca",
        "outputId": "59cb3797-6d30-4708-ebe2-b0b4862d50a2"
      },
      "execution_count": null,
      "outputs": [
        {
          "output_type": "execute_result",
          "data": {
            "text/plain": [
              "            price\n",
              "name             \n",
              "Star Wars      13\n",
              "James Bond     11\n",
              "Avatar         10"
            ],
            "text/html": [
              "\n",
              "  <div id=\"df-11fbc8fa-ffbf-449e-93a6-4ce3e7fc0e31\">\n",
              "    <div class=\"colab-df-container\">\n",
              "      <div>\n",
              "<style scoped>\n",
              "    .dataframe tbody tr th:only-of-type {\n",
              "        vertical-align: middle;\n",
              "    }\n",
              "\n",
              "    .dataframe tbody tr th {\n",
              "        vertical-align: top;\n",
              "    }\n",
              "\n",
              "    .dataframe thead th {\n",
              "        text-align: right;\n",
              "    }\n",
              "</style>\n",
              "<table border=\"1\" class=\"dataframe\">\n",
              "  <thead>\n",
              "    <tr style=\"text-align: right;\">\n",
              "      <th></th>\n",
              "      <th>price</th>\n",
              "    </tr>\n",
              "    <tr>\n",
              "      <th>name</th>\n",
              "      <th></th>\n",
              "    </tr>\n",
              "  </thead>\n",
              "  <tbody>\n",
              "    <tr>\n",
              "      <th>Star Wars</th>\n",
              "      <td>13</td>\n",
              "    </tr>\n",
              "    <tr>\n",
              "      <th>James Bond</th>\n",
              "      <td>11</td>\n",
              "    </tr>\n",
              "    <tr>\n",
              "      <th>Avatar</th>\n",
              "      <td>10</td>\n",
              "    </tr>\n",
              "  </tbody>\n",
              "</table>\n",
              "</div>\n",
              "      <button class=\"colab-df-convert\" onclick=\"convertToInteractive('df-11fbc8fa-ffbf-449e-93a6-4ce3e7fc0e31')\"\n",
              "              title=\"Convert this dataframe to an interactive table.\"\n",
              "              style=\"display:none;\">\n",
              "        \n",
              "  <svg xmlns=\"http://www.w3.org/2000/svg\" height=\"24px\"viewBox=\"0 0 24 24\"\n",
              "       width=\"24px\">\n",
              "    <path d=\"M0 0h24v24H0V0z\" fill=\"none\"/>\n",
              "    <path d=\"M18.56 5.44l.94 2.06.94-2.06 2.06-.94-2.06-.94-.94-2.06-.94 2.06-2.06.94zm-11 1L8.5 8.5l.94-2.06 2.06-.94-2.06-.94L8.5 2.5l-.94 2.06-2.06.94zm10 10l.94 2.06.94-2.06 2.06-.94-2.06-.94-.94-2.06-.94 2.06-2.06.94z\"/><path d=\"M17.41 7.96l-1.37-1.37c-.4-.4-.92-.59-1.43-.59-.52 0-1.04.2-1.43.59L10.3 9.45l-7.72 7.72c-.78.78-.78 2.05 0 2.83L4 21.41c.39.39.9.59 1.41.59.51 0 1.02-.2 1.41-.59l7.78-7.78 2.81-2.81c.8-.78.8-2.07 0-2.86zM5.41 20L4 18.59l7.72-7.72 1.47 1.35L5.41 20z\"/>\n",
              "  </svg>\n",
              "      </button>\n",
              "      \n",
              "  <style>\n",
              "    .colab-df-container {\n",
              "      display:flex;\n",
              "      flex-wrap:wrap;\n",
              "      gap: 12px;\n",
              "    }\n",
              "\n",
              "    .colab-df-convert {\n",
              "      background-color: #E8F0FE;\n",
              "      border: none;\n",
              "      border-radius: 50%;\n",
              "      cursor: pointer;\n",
              "      display: none;\n",
              "      fill: #1967D2;\n",
              "      height: 32px;\n",
              "      padding: 0 0 0 0;\n",
              "      width: 32px;\n",
              "    }\n",
              "\n",
              "    .colab-df-convert:hover {\n",
              "      background-color: #E2EBFA;\n",
              "      box-shadow: 0px 1px 2px rgba(60, 64, 67, 0.3), 0px 1px 3px 1px rgba(60, 64, 67, 0.15);\n",
              "      fill: #174EA6;\n",
              "    }\n",
              "\n",
              "    [theme=dark] .colab-df-convert {\n",
              "      background-color: #3B4455;\n",
              "      fill: #D2E3FC;\n",
              "    }\n",
              "\n",
              "    [theme=dark] .colab-df-convert:hover {\n",
              "      background-color: #434B5C;\n",
              "      box-shadow: 0px 1px 3px 1px rgba(0, 0, 0, 0.15);\n",
              "      filter: drop-shadow(0px 1px 2px rgba(0, 0, 0, 0.3));\n",
              "      fill: #FFFFFF;\n",
              "    }\n",
              "  </style>\n",
              "\n",
              "      <script>\n",
              "        const buttonEl =\n",
              "          document.querySelector('#df-11fbc8fa-ffbf-449e-93a6-4ce3e7fc0e31 button.colab-df-convert');\n",
              "        buttonEl.style.display =\n",
              "          google.colab.kernel.accessAllowed ? 'block' : 'none';\n",
              "\n",
              "        async function convertToInteractive(key) {\n",
              "          const element = document.querySelector('#df-11fbc8fa-ffbf-449e-93a6-4ce3e7fc0e31');\n",
              "          const dataTable =\n",
              "            await google.colab.kernel.invokeFunction('convertToInteractive',\n",
              "                                                     [key], {});\n",
              "          if (!dataTable) return;\n",
              "\n",
              "          const docLinkHtml = 'Like what you see? Visit the ' +\n",
              "            '<a target=\"_blank\" href=https://colab.research.google.com/notebooks/data_table.ipynb>data table notebook</a>'\n",
              "            + ' to learn more about interactive tables.';\n",
              "          element.innerHTML = '';\n",
              "          dataTable['output_type'] = 'display_data';\n",
              "          await google.colab.output.renderOutput(dataTable, element);\n",
              "          const docLink = document.createElement('div');\n",
              "          docLink.innerHTML = docLinkHtml;\n",
              "          element.appendChild(docLink);\n",
              "        }\n",
              "      </script>\n",
              "    </div>\n",
              "  </div>\n",
              "  "
            ]
          },
          "metadata": {},
          "execution_count": 103
        }
      ]
    },
    {
      "cell_type": "code",
      "source": [
        "#Number 6\n",
        "date_revenue = theaterDF.groupby(['date'])['price'].sum().to_frame()\n",
        "date_revenue.sort_values(by='price',ascending=False)"
      ],
      "metadata": {
        "colab": {
          "base_uri": "https://localhost:8080/",
          "height": 143
        },
        "id": "3SoLWPBJDPja",
        "outputId": "c00e3850-c6fc-4e74-e84e-7e8050919da9"
      },
      "execution_count": null,
      "outputs": [
        {
          "output_type": "execute_result",
          "data": {
            "text/plain": [
              "            price\n",
              "date             \n",
              "12-08-2022     23\n",
              "12-09-2022     11"
            ],
            "text/html": [
              "\n",
              "  <div id=\"df-8ed21273-73e3-4a6c-afd5-5c28962e1dbc\">\n",
              "    <div class=\"colab-df-container\">\n",
              "      <div>\n",
              "<style scoped>\n",
              "    .dataframe tbody tr th:only-of-type {\n",
              "        vertical-align: middle;\n",
              "    }\n",
              "\n",
              "    .dataframe tbody tr th {\n",
              "        vertical-align: top;\n",
              "    }\n",
              "\n",
              "    .dataframe thead th {\n",
              "        text-align: right;\n",
              "    }\n",
              "</style>\n",
              "<table border=\"1\" class=\"dataframe\">\n",
              "  <thead>\n",
              "    <tr style=\"text-align: right;\">\n",
              "      <th></th>\n",
              "      <th>price</th>\n",
              "    </tr>\n",
              "    <tr>\n",
              "      <th>date</th>\n",
              "      <th></th>\n",
              "    </tr>\n",
              "  </thead>\n",
              "  <tbody>\n",
              "    <tr>\n",
              "      <th>12-08-2022</th>\n",
              "      <td>23</td>\n",
              "    </tr>\n",
              "    <tr>\n",
              "      <th>12-09-2022</th>\n",
              "      <td>11</td>\n",
              "    </tr>\n",
              "  </tbody>\n",
              "</table>\n",
              "</div>\n",
              "      <button class=\"colab-df-convert\" onclick=\"convertToInteractive('df-8ed21273-73e3-4a6c-afd5-5c28962e1dbc')\"\n",
              "              title=\"Convert this dataframe to an interactive table.\"\n",
              "              style=\"display:none;\">\n",
              "        \n",
              "  <svg xmlns=\"http://www.w3.org/2000/svg\" height=\"24px\"viewBox=\"0 0 24 24\"\n",
              "       width=\"24px\">\n",
              "    <path d=\"M0 0h24v24H0V0z\" fill=\"none\"/>\n",
              "    <path d=\"M18.56 5.44l.94 2.06.94-2.06 2.06-.94-2.06-.94-.94-2.06-.94 2.06-2.06.94zm-11 1L8.5 8.5l.94-2.06 2.06-.94-2.06-.94L8.5 2.5l-.94 2.06-2.06.94zm10 10l.94 2.06.94-2.06 2.06-.94-2.06-.94-.94-2.06-.94 2.06-2.06.94z\"/><path d=\"M17.41 7.96l-1.37-1.37c-.4-.4-.92-.59-1.43-.59-.52 0-1.04.2-1.43.59L10.3 9.45l-7.72 7.72c-.78.78-.78 2.05 0 2.83L4 21.41c.39.39.9.59 1.41.59.51 0 1.02-.2 1.41-.59l7.78-7.78 2.81-2.81c.8-.78.8-2.07 0-2.86zM5.41 20L4 18.59l7.72-7.72 1.47 1.35L5.41 20z\"/>\n",
              "  </svg>\n",
              "      </button>\n",
              "      \n",
              "  <style>\n",
              "    .colab-df-container {\n",
              "      display:flex;\n",
              "      flex-wrap:wrap;\n",
              "      gap: 12px;\n",
              "    }\n",
              "\n",
              "    .colab-df-convert {\n",
              "      background-color: #E8F0FE;\n",
              "      border: none;\n",
              "      border-radius: 50%;\n",
              "      cursor: pointer;\n",
              "      display: none;\n",
              "      fill: #1967D2;\n",
              "      height: 32px;\n",
              "      padding: 0 0 0 0;\n",
              "      width: 32px;\n",
              "    }\n",
              "\n",
              "    .colab-df-convert:hover {\n",
              "      background-color: #E2EBFA;\n",
              "      box-shadow: 0px 1px 2px rgba(60, 64, 67, 0.3), 0px 1px 3px 1px rgba(60, 64, 67, 0.15);\n",
              "      fill: #174EA6;\n",
              "    }\n",
              "\n",
              "    [theme=dark] .colab-df-convert {\n",
              "      background-color: #3B4455;\n",
              "      fill: #D2E3FC;\n",
              "    }\n",
              "\n",
              "    [theme=dark] .colab-df-convert:hover {\n",
              "      background-color: #434B5C;\n",
              "      box-shadow: 0px 1px 3px 1px rgba(0, 0, 0, 0.15);\n",
              "      filter: drop-shadow(0px 1px 2px rgba(0, 0, 0, 0.3));\n",
              "      fill: #FFFFFF;\n",
              "    }\n",
              "  </style>\n",
              "\n",
              "      <script>\n",
              "        const buttonEl =\n",
              "          document.querySelector('#df-8ed21273-73e3-4a6c-afd5-5c28962e1dbc button.colab-df-convert');\n",
              "        buttonEl.style.display =\n",
              "          google.colab.kernel.accessAllowed ? 'block' : 'none';\n",
              "\n",
              "        async function convertToInteractive(key) {\n",
              "          const element = document.querySelector('#df-8ed21273-73e3-4a6c-afd5-5c28962e1dbc');\n",
              "          const dataTable =\n",
              "            await google.colab.kernel.invokeFunction('convertToInteractive',\n",
              "                                                     [key], {});\n",
              "          if (!dataTable) return;\n",
              "\n",
              "          const docLinkHtml = 'Like what you see? Visit the ' +\n",
              "            '<a target=\"_blank\" href=https://colab.research.google.com/notebooks/data_table.ipynb>data table notebook</a>'\n",
              "            + ' to learn more about interactive tables.';\n",
              "          element.innerHTML = '';\n",
              "          dataTable['output_type'] = 'display_data';\n",
              "          await google.colab.output.renderOutput(dataTable, element);\n",
              "          const docLink = document.createElement('div');\n",
              "          docLink.innerHTML = docLinkHtml;\n",
              "          element.appendChild(docLink);\n",
              "        }\n",
              "      </script>\n",
              "    </div>\n",
              "  </div>\n",
              "  "
            ]
          },
          "metadata": {},
          "execution_count": 85
        }
      ]
    },
    {
      "cell_type": "code",
      "source": [
        "#Number 7\n",
        "oldest_movies = theaterDF.sort_values(by='release_year',ascending=True)\n",
        "oldest_movies.reset_index(inplace=True)\n",
        "oldest_movies.at[0,'name']"
      ],
      "metadata": {
        "colab": {
          "base_uri": "https://localhost:8080/",
          "height": 35
        },
        "id": "P6ri5bIiD8pI",
        "outputId": "ed4fa150-5e1b-487f-e049-e2aa18bd2ef5"
      },
      "execution_count": null,
      "outputs": [
        {
          "output_type": "execute_result",
          "data": {
            "text/plain": [
              "'James Bond'"
            ],
            "application/vnd.google.colaboratory.intrinsic+json": {
              "type": "string"
            }
          },
          "metadata": {},
          "execution_count": 86
        }
      ]
    },
    {
      "cell_type": "code",
      "source": [
        "#Number 8\n",
        "grossing = theaterDF.groupby(['name'])['price'].mean().to_frame()\n",
        "grossing.sort_values(by='price',ascending=False)"
      ],
      "metadata": {
        "colab": {
          "base_uri": "https://localhost:8080/",
          "height": 175
        },
        "id": "6dKx3YmhF0CY",
        "outputId": "94ef958d-d68a-4d99-db6f-1c43229e4097"
      },
      "execution_count": null,
      "outputs": [
        {
          "output_type": "execute_result",
          "data": {
            "text/plain": [
              "            price\n",
              "name             \n",
              "Star Wars    13.0\n",
              "James Bond   11.0\n",
              "Avatar       10.0"
            ],
            "text/html": [
              "\n",
              "  <div id=\"df-f01e174b-3a6f-43fd-9794-0dad1d92f9c4\">\n",
              "    <div class=\"colab-df-container\">\n",
              "      <div>\n",
              "<style scoped>\n",
              "    .dataframe tbody tr th:only-of-type {\n",
              "        vertical-align: middle;\n",
              "    }\n",
              "\n",
              "    .dataframe tbody tr th {\n",
              "        vertical-align: top;\n",
              "    }\n",
              "\n",
              "    .dataframe thead th {\n",
              "        text-align: right;\n",
              "    }\n",
              "</style>\n",
              "<table border=\"1\" class=\"dataframe\">\n",
              "  <thead>\n",
              "    <tr style=\"text-align: right;\">\n",
              "      <th></th>\n",
              "      <th>price</th>\n",
              "    </tr>\n",
              "    <tr>\n",
              "      <th>name</th>\n",
              "      <th></th>\n",
              "    </tr>\n",
              "  </thead>\n",
              "  <tbody>\n",
              "    <tr>\n",
              "      <th>Star Wars</th>\n",
              "      <td>13.0</td>\n",
              "    </tr>\n",
              "    <tr>\n",
              "      <th>James Bond</th>\n",
              "      <td>11.0</td>\n",
              "    </tr>\n",
              "    <tr>\n",
              "      <th>Avatar</th>\n",
              "      <td>10.0</td>\n",
              "    </tr>\n",
              "  </tbody>\n",
              "</table>\n",
              "</div>\n",
              "      <button class=\"colab-df-convert\" onclick=\"convertToInteractive('df-f01e174b-3a6f-43fd-9794-0dad1d92f9c4')\"\n",
              "              title=\"Convert this dataframe to an interactive table.\"\n",
              "              style=\"display:none;\">\n",
              "        \n",
              "  <svg xmlns=\"http://www.w3.org/2000/svg\" height=\"24px\"viewBox=\"0 0 24 24\"\n",
              "       width=\"24px\">\n",
              "    <path d=\"M0 0h24v24H0V0z\" fill=\"none\"/>\n",
              "    <path d=\"M18.56 5.44l.94 2.06.94-2.06 2.06-.94-2.06-.94-.94-2.06-.94 2.06-2.06.94zm-11 1L8.5 8.5l.94-2.06 2.06-.94-2.06-.94L8.5 2.5l-.94 2.06-2.06.94zm10 10l.94 2.06.94-2.06 2.06-.94-2.06-.94-.94-2.06-.94 2.06-2.06.94z\"/><path d=\"M17.41 7.96l-1.37-1.37c-.4-.4-.92-.59-1.43-.59-.52 0-1.04.2-1.43.59L10.3 9.45l-7.72 7.72c-.78.78-.78 2.05 0 2.83L4 21.41c.39.39.9.59 1.41.59.51 0 1.02-.2 1.41-.59l7.78-7.78 2.81-2.81c.8-.78.8-2.07 0-2.86zM5.41 20L4 18.59l7.72-7.72 1.47 1.35L5.41 20z\"/>\n",
              "  </svg>\n",
              "      </button>\n",
              "      \n",
              "  <style>\n",
              "    .colab-df-container {\n",
              "      display:flex;\n",
              "      flex-wrap:wrap;\n",
              "      gap: 12px;\n",
              "    }\n",
              "\n",
              "    .colab-df-convert {\n",
              "      background-color: #E8F0FE;\n",
              "      border: none;\n",
              "      border-radius: 50%;\n",
              "      cursor: pointer;\n",
              "      display: none;\n",
              "      fill: #1967D2;\n",
              "      height: 32px;\n",
              "      padding: 0 0 0 0;\n",
              "      width: 32px;\n",
              "    }\n",
              "\n",
              "    .colab-df-convert:hover {\n",
              "      background-color: #E2EBFA;\n",
              "      box-shadow: 0px 1px 2px rgba(60, 64, 67, 0.3), 0px 1px 3px 1px rgba(60, 64, 67, 0.15);\n",
              "      fill: #174EA6;\n",
              "    }\n",
              "\n",
              "    [theme=dark] .colab-df-convert {\n",
              "      background-color: #3B4455;\n",
              "      fill: #D2E3FC;\n",
              "    }\n",
              "\n",
              "    [theme=dark] .colab-df-convert:hover {\n",
              "      background-color: #434B5C;\n",
              "      box-shadow: 0px 1px 3px 1px rgba(0, 0, 0, 0.15);\n",
              "      filter: drop-shadow(0px 1px 2px rgba(0, 0, 0, 0.3));\n",
              "      fill: #FFFFFF;\n",
              "    }\n",
              "  </style>\n",
              "\n",
              "      <script>\n",
              "        const buttonEl =\n",
              "          document.querySelector('#df-f01e174b-3a6f-43fd-9794-0dad1d92f9c4 button.colab-df-convert');\n",
              "        buttonEl.style.display =\n",
              "          google.colab.kernel.accessAllowed ? 'block' : 'none';\n",
              "\n",
              "        async function convertToInteractive(key) {\n",
              "          const element = document.querySelector('#df-f01e174b-3a6f-43fd-9794-0dad1d92f9c4');\n",
              "          const dataTable =\n",
              "            await google.colab.kernel.invokeFunction('convertToInteractive',\n",
              "                                                     [key], {});\n",
              "          if (!dataTable) return;\n",
              "\n",
              "          const docLinkHtml = 'Like what you see? Visit the ' +\n",
              "            '<a target=\"_blank\" href=https://colab.research.google.com/notebooks/data_table.ipynb>data table notebook</a>'\n",
              "            + ' to learn more about interactive tables.';\n",
              "          element.innerHTML = '';\n",
              "          dataTable['output_type'] = 'display_data';\n",
              "          await google.colab.output.renderOutput(dataTable, element);\n",
              "          const docLink = document.createElement('div');\n",
              "          docLink.innerHTML = docLinkHtml;\n",
              "          element.appendChild(docLink);\n",
              "        }\n",
              "      </script>\n",
              "    </div>\n",
              "  </div>\n",
              "  "
            ]
          },
          "metadata": {},
          "execution_count": 87
        }
      ]
    },
    {
      "cell_type": "code",
      "source": [
        "from os import name\n",
        "#Number 9\n",
        "</THEATER>\n",
        "  <MOVIE name = 'Avatar' release_year = '2009' >\n",
        "      <PROJECTIONS projection_id = '1' date = '1282022' time = '20'>\n",
        "              <TICKET> ticket_id ='1' cost ='10' </TICKET>\n",
        "              <ROOM> room_num = '1' capacity = '10' </ROOM>\n",
        "      </PROJECTIONS>\n",
        "  </MOVIE>\n",
        "  <MOVIE> name = 'Star Wars' release_year = '1977' >\n",
        "              <PROJECTIONS projection_id = '1' date='1282022' time ='21'>\n",
        "                    <TICKET> ticket_id ='2' cost ='12' </TICKET>\n",
        "                    <ROOM> room_num = '2' capacity = '13' </ROOM>\n",
        "              </PROJECTIONS>\n",
        "  </MOVIE>\n",
        "  <MOVIE name = 'James Bond' release_date = '1964' >\n",
        "              <PROJECTIONS projection_id = '2' date='1292022' time='20'>\n",
        "                  <TICKET> ticket_id = '3' cost ='11' </TICKET>\n",
        "                  <ROOM> room_num = '3' capacity = '15' </ROOM>\n",
        "              </PROJECTIONS>\n",
        "  </MOVIE>\n",
        "</THEATER>\n",
        "\n"
      ],
      "metadata": {
        "id": "PR_i8ButGFmx"
      },
      "execution_count": null,
      "outputs": []
    },
    {
      "cell_type": "code",
      "source": [
        "#Number 10\n",
        "\n",
        "//THEATER/MOVIE[text()=\"James Bond\"]/PROJECTIONS/@date"
      ],
      "metadata": {
        "id": "WZDa55RaOnu8"
      },
      "execution_count": null,
      "outputs": []
    },
    {
      "cell_type": "code",
      "source": [
        "#Number 11\n",
        "date_revenue = theaterDF.groupby(['date'])['price'].sum().to_frame()\n",
        "date_revenue.sort_values(by='price',ascending=False)\n",
        "#date_revenue.plot.scatter(x=date_revenue.index,y=date_revenue['price'])\n",
        "date_revenue.reset_index(inplace=True,drop=False)\n",
        "date_revenue.plot.scatter('date','price')"
      ],
      "metadata": {
        "colab": {
          "base_uri": "https://localhost:8080/",
          "height": 296
        },
        "id": "18MkNDiYPUJ9",
        "outputId": "2328b8ac-8b46-4214-c816-93466c7172dc"
      },
      "execution_count": null,
      "outputs": [
        {
          "output_type": "execute_result",
          "data": {
            "text/plain": [
              "<matplotlib.axes._subplots.AxesSubplot at 0x7fcb40e0b4c0>"
            ]
          },
          "metadata": {},
          "execution_count": 100
        },
        {
          "output_type": "display_data",
          "data": {
            "text/plain": [
              "<Figure size 432x288 with 1 Axes>"
            ],
            "image/png": "[encoded data removed]"
          },
          "metadata": {
            "needs_background": "light"
          }
        }
      ]
    },
    {
      "cell_type": "markdown",
      "source": [
        "Number 12\n",
        "This should be categorized as a Yes![K NEarest.png](data:image/png;base64,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)"
      ],
      "metadata": {
        "id": "ey0LifRfW-Xp"
      }
    }
  ]
}