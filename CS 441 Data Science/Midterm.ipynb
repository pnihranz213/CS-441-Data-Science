{
  "nbformat": 4,
  "nbformat_minor": 0,
  "metadata": {
    "colab": {
      "provenance": []
    },
    "kernelspec": {
      "name": "python3",
      "display_name": "Python 3"
    },
    "language_info": {
      "name": "python"
    }
  },
  "cells": [
    {
      "cell_type": "code",
      "execution_count": null,
      "metadata": {
        "colab": {
          "base_uri": "https://localhost:8080/"
        },
        "id": "n9VMrO8sttCo",
        "outputId": "f495c711-083d-4285-e659-efc74dc41324"
      },
      "outputs": [
        {
          "output_type": "stream",
          "name": "stdout",
          "text": [
            "   ID  Name:\n",
            "0   1   John\n",
            "1   2    Bob\n",
            "2   3  Stacy\n",
            "   ID   Name\n",
            "0   5  store\n",
            "1   6   shop\n",
            "2   7  kiosk\n",
            "  Customer Vendor  Price\n",
            "0     John  kiosk     12\n",
            "1    Stacy  store     50\n",
            "2      Bob   shop      5\n",
            "3     John   shop      2\n"
          ]
        }
      ],
      "source": [
        "import pandas as pd\n",
        "import numpy as np\n",
        "import yfinance as yf\n",
        "#number 1\n",
        "custData = {\n",
        "    'ID': [1, 2, 3],\n",
        "    'Name:': ['John', 'Bob', 'Stacy']\n",
        "}\n",
        "custDf = pd.DataFrame(custData)\n",
        "print(custDf)\n",
        "\n",
        "venData = {\n",
        "    'ID': [5, 6, 7],\n",
        "    'Name': ['store', 'shop', 'kiosk']\n",
        "}\n",
        "venDf = pd.DataFrame(venData)\n",
        "print(venDf)\n",
        "\n",
        "purchData = {\n",
        "    'Customer': ['John', 'Stacy', 'Bob', 'John'],\n",
        "    'Vendor': ['kiosk', 'store', 'shop', 'shop'],\n",
        "    'Price': [12, 50, 5, 2]\n",
        "}\n",
        "purchDf = pd.DataFrame(purchData)\n",
        "print(purchDf)\n",
        "\n",
        "\n",
        "\n",
        "\n",
        "\n",
        "\n",
        "\n"
      ]
    },
    {
      "cell_type": "code",
      "source": [
        "#number 2\n",
        "print('highest amount spent')\n",
        "maxPurchase = purchDf['Price'].idxmax()\n",
        "print(purchDf.loc[maxPurchase, 'Customer'])\n",
        "\n",
        "\n",
        "\n"
      ],
      "metadata": {
        "colab": {
          "base_uri": "https://localhost:8080/"
        },
        "id": "epFeD6_XuwRt",
        "outputId": "87ff0bcd-9107-4118-b14d-1f7defa1e437"
      },
      "execution_count": null,
      "outputs": [
        {
          "output_type": "stream",
          "name": "stdout",
          "text": [
            "highest amount spent\n",
            "Stacy\n"
          ]
        }
      ]
    },
    {
      "cell_type": "code",
      "source": [
        "\n",
        "#number 3\n",
        "avgPurchases = 0\n",
        "sum = purchDf.loc[:, 'Price'].sum()\n",
        "avgPurchases = sum / len(purchDf.index)\n",
        "print(\"average purchase price\")\n",
        "print(avgPurchases)\n",
        "\n"
      ],
      "metadata": {
        "colab": {
          "base_uri": "https://localhost:8080/"
        },
        "id": "ppFBCa0su2W3",
        "outputId": "4b910587-d68d-4690-b59e-71437e5934f9"
      },
      "execution_count": null,
      "outputs": [
        {
          "output_type": "stream",
          "name": "stdout",
          "text": [
            "average purchase price\n",
            "17.25\n"
          ]
        }
      ]
    },
    {
      "cell_type": "markdown",
      "source": [],
      "metadata": {
        "id": "d5LAndIaBigX"
      }
    },
    {
      "cell_type": "code",
      "source": [
        "#number4\n",
        "pk = purchDf.groupby('Vendor')\n",
        "shops = pk.get_group(\"shop\")\n",
        "kiosk = pk.get_group('kiosk')\n",
        "store = pk.get_group('store')\n",
        "Profits = [shops['Price'].sum(), kiosk['Price'].sum(), store['Price'].sum()]\n",
        "print(Profits)\n",
        "print(\"The store made the most money at $50\")"
      ],
      "metadata": {
        "colab": {
          "base_uri": "https://localhost:8080/"
        },
        "id": "iJEE85Rou2kq",
        "outputId": "bfc95b64-d0e8-4b36-d02b-80c1dab00fb5"
      },
      "execution_count": null,
      "outputs": [
        {
          "output_type": "stream",
          "name": "stdout",
          "text": [
            "[7, 12, 50]\n",
            "The store made the most money at $50\n"
          ]
        }
      ]
    },
    {
      "cell_type": "code",
      "source": [
        "#number 5\n",
        "print('most purchases')\n",
        "jItems = 0\n",
        "bItems = 0\n",
        "sItems = 0\n",
        "for row in purchDf.iterrows():\n",
        "    if(row[1]['Customer'] == 'John'):\n",
        "        jItems+=1\n",
        "    if (row[1]['Customer'] == 'Bob'):\n",
        "        bItems += 1\n",
        "    if (row[1]['Customer'] == 'Stacy'):\n",
        "        sItems += 1\n",
        "\n",
        "totals = {jItems:\"John\",bItems:\"Bob\",sItems:\"Stacy\"}\n",
        "print(totals.get(max(totals)))\n",
        "\n"
      ],
      "metadata": {
        "colab": {
          "base_uri": "https://localhost:8080/"
        },
        "id": "6F378F1bu3Oh",
        "outputId": "56bcd22d-e5f0-41e4-a04f-0cf9e71acb7b"
      },
      "execution_count": null,
      "outputs": [
        {
          "output_type": "stream",
          "name": "stdout",
          "text": [
            "most purchases\n",
            "John\n"
          ]
        }
      ]
    },
    {
      "cell_type": "code",
      "source": [
        "#number 6\n",
        "maxPurchase = purchDf['Price'].idxmax()\n",
        "print('highest single purchase person')\n",
        "print(purchDf.loc[maxPurchase, 'Customer'])\n",
        "\n"
      ],
      "metadata": {
        "colab": {
          "base_uri": "https://localhost:8080/"
        },
        "id": "rBl9xvc8u3bR",
        "outputId": "4412c961-fb29-45e3-948d-6fd9ddc760f4"
      },
      "execution_count": null,
      "outputs": [
        {
          "output_type": "stream",
          "name": "stdout",
          "text": [
            "highest single purchase person\n",
            "Stacy\n"
          ]
        }
      ]
    },
    {
      "cell_type": "code",
      "source": [
        "#number 7\n",
        "df = pd.DataFrame(np.random.randint(1,10,size=(10, 10)))\n",
        "print(df)\n",
        "\n"
      ],
      "metadata": {
        "colab": {
          "base_uri": "https://localhost:8080/"
        },
        "id": "qsoPk4jluwp-",
        "outputId": "c38b45b8-3932-4c07-86b3-5f8a809ff4d6"
      },
      "execution_count": null,
      "outputs": [
        {
          "output_type": "stream",
          "name": "stdout",
          "text": [
            "   0  1  2  3  4  5  6  7  8  9\n",
            "0  6  7  3  7  9  6  1  1  8  6\n",
            "1  2  8  1  9  6  4  8  1  2  8\n",
            "2  5  8  3  1  6  1  9  2  2  8\n",
            "3  4  7  3  1  5  4  9  4  4  5\n",
            "4  7  3  5  4  9  2  7  5  5  3\n",
            "5  1  1  2  4  7  5  6  1  8  1\n",
            "6  2  1  3  8  5  3  7  1  8  5\n",
            "7  1  4  2  2  6  3  2  6  3  5\n",
            "8  2  1  2  2  3  1  1  4  8  6\n",
            "9  7  5  7  5  7  5  6  7  2  3\n"
          ]
        }
      ]
    },
    {
      "cell_type": "code",
      "source": [
        "#number 8\n",
        "print(df.min(axis=0))\n"
      ],
      "metadata": {
        "colab": {
          "base_uri": "https://localhost:8080/"
        },
        "id": "RMFYkKmDv45n",
        "outputId": "7143cd1d-89c0-4c6a-c2d1-e60d7a4f7817"
      },
      "execution_count": null,
      "outputs": [
        {
          "output_type": "stream",
          "name": "stdout",
          "text": [
            "0    1\n",
            "1    1\n",
            "2    1\n",
            "3    1\n",
            "4    3\n",
            "5    1\n",
            "6    1\n",
            "7    1\n",
            "8    2\n",
            "9    1\n",
            "dtype: int64\n"
          ]
        }
      ]
    },
    {
      "cell_type": "code",
      "source": [
        "#number 9\n",
        "sorted_range = np.sort(df)\n",
        "print(sorted_range)\n",
        "f = [0,1,2,3,4,5,6,7,8,9]\n",
        "for i in f:\n",
        "  row_number = i\n",
        "  sum = sorted_range[i,0]+sorted_range[i,1]\n",
        "  print(f\"The sum of the two lowest numbers in row {row_number} is equal to {sum}\")"
      ],
      "metadata": {
        "colab": {
          "base_uri": "https://localhost:8080/"
        },
        "id": "vTzqh7JhwjlB",
        "outputId": "e8adc6f5-5da0-4541-e753-084f576fadfc"
      },
      "execution_count": null,
      "outputs": [
        {
          "output_type": "stream",
          "name": "stdout",
          "text": [
            "[[1 1 3 6 6 6 7 7 8 9]\n",
            " [1 1 2 2 4 6 8 8 8 9]\n",
            " [1 1 2 2 3 5 6 8 8 9]\n",
            " [1 3 4 4 4 4 5 5 7 9]\n",
            " [2 3 3 4 5 5 5 7 7 9]\n",
            " [1 1 1 1 2 4 5 6 7 8]\n",
            " [1 1 2 3 3 5 5 7 8 8]\n",
            " [1 2 2 2 3 3 4 5 6 6]\n",
            " [1 1 1 2 2 2 3 4 6 8]\n",
            " [2 3 5 5 5 6 7 7 7 7]]\n",
            "The sum of the two lowest numbers in row 0 is equal to 2\n",
            "The sum of the two lowest numbers in row 1 is equal to 2\n",
            "The sum of the two lowest numbers in row 2 is equal to 2\n",
            "The sum of the two lowest numbers in row 3 is equal to 4\n",
            "The sum of the two lowest numbers in row 4 is equal to 5\n",
            "The sum of the two lowest numbers in row 5 is equal to 2\n",
            "The sum of the two lowest numbers in row 6 is equal to 2\n",
            "The sum of the two lowest numbers in row 7 is equal to 3\n",
            "The sum of the two lowest numbers in row 8 is equal to 2\n",
            "The sum of the two lowest numbers in row 9 is equal to 5\n"
          ]
        }
      ]
    },
    {
      "cell_type": "code",
      "source": [
        "#number 10\n",
        "stock_df = yf.download(\"TSLA\",start=\"2019-01-01\",end=\"2019-12-31\")\n",
        "stock_df['Change_over_day'] = stock_df['Close']-stock_df['Open']\n",
        "stock_df['percent_change'] = stock_df['Change_over_day']/stock_df['Open']\n",
        "print(stock_df[stock_df['percent_change']==stock_df['percent_change'].max()])\n",
        "print(\"The greatest percent change was on 10-25-2019 of 10.2%\")"
      ],
      "metadata": {
        "colab": {
          "base_uri": "https://localhost:8080/"
        },
        "id": "mOrpwE4Cywfm",
        "outputId": "24d32b3f-d89c-49b6-a07e-c1d1bf54cb0d"
      },
      "execution_count": null,
      "outputs": [
        {
          "output_type": "stream",
          "name": "stdout",
          "text": [
            "\r[*********************100%***********************]  1 of 1 completed\n",
            "              Open  High        Low      Close  Adj Close     Volume  \\\n",
            "Date                                                                   \n",
            "2019-10-25  19.848  22.0  19.740667  21.875334  21.875334  450091500   \n",
            "\n",
            "            Change_over_day  percent_change  \n",
            "Date                                         \n",
            "2019-10-25         2.027334        0.102143  \n",
            "The greatest percent change was on 10-25-2019 of 10.2%\n"
          ]
        }
      ]
    },
    {
      "cell_type": "code",
      "source": [
        "#number 11\n",
        "goog_df = yf.download(\"GOOG\",starts=\"2019-01-01\",end=\"2019-12-31\")\n",
        "goog_df['percent_change'] = (goog_df['Close']-goog_df['Open'])/goog_df['Open']\n",
        "diff_df = goog_df['percent_change'] - stock_df['percent_change']\n",
        "diff_df.columns = ['Date','percent_change']\n",
        "greatest_disp = diff_df.max()\n",
        "print(greatest_disp*100)"
      ],
      "metadata": {
        "colab": {
          "base_uri": "https://localhost:8080/"
        },
        "id": "e8ArrWbU2YXT",
        "outputId": "b6329c3c-d374-484e-c37c-6319400755bf"
      },
      "execution_count": null,
      "outputs": [
        {
          "output_type": "stream",
          "name": "stdout",
          "text": [
            "\r[*********************100%***********************]  1 of 1 completed\n",
            "6.262862896416572\n"
          ]
        }
      ]
    },
    {
      "cell_type": "code",
      "source": [],
      "metadata": {
        "id": "8JicxezS3xw6"
      },
      "execution_count": null,
      "outputs": []
    },
    {
      "cell_type": "code",
      "source": [
        "pip install yfinance"
      ],
      "metadata": {
        "colab": {
          "base_uri": "https://localhost:8080/",
          "height": 540
        },
        "id": "xGnVCz7NyI0R",
        "outputId": "37621156-1188-4ef7-a860-2915e80a8ba5"
      },
      "execution_count": null,
      "outputs": [
        {
          "output_type": "stream",
          "name": "stdout",
          "text": [
            "Looking in indexes: https://pypi.org/simple, https://us-python.pkg.dev/colab-wheels/public/simple/\n",
            "Collecting yfinance\n",
            "  Downloading yfinance-0.1.85-py2.py3-none-any.whl (29 kB)\n",
            "Collecting requests>=2.26\n",
            "  Downloading requests-2.28.1-py3-none-any.whl (62 kB)\n",
            "\u001b[K     |████████████████████████████████| 62 kB 1.2 MB/s \n",
            "\u001b[?25hRequirement already satisfied: lxml>=4.5.1 in /usr/local/lib/python3.7/dist-packages (from yfinance) (4.9.1)\n",
            "Requirement already satisfied: pandas>=0.24.0 in /usr/local/lib/python3.7/dist-packages (from yfinance) (1.3.5)\n",
            "Requirement already satisfied: multitasking>=0.0.7 in /usr/local/lib/python3.7/dist-packages (from yfinance) (0.0.11)\n",
            "Requirement already satisfied: numpy>=1.15 in /usr/local/lib/python3.7/dist-packages (from yfinance) (1.21.6)\n",
            "Requirement already satisfied: appdirs>=1.4.4 in /usr/local/lib/python3.7/dist-packages (from yfinance) (1.4.4)\n",
            "Requirement already satisfied: python-dateutil>=2.7.3 in /usr/local/lib/python3.7/dist-packages (from pandas>=0.24.0->yfinance) (2.8.2)\n",
            "Requirement already satisfied: pytz>=2017.3 in /usr/local/lib/python3.7/dist-packages (from pandas>=0.24.0->yfinance) (2022.6)\n",
            "Requirement already satisfied: six>=1.5 in /usr/local/lib/python3.7/dist-packages (from python-dateutil>=2.7.3->pandas>=0.24.0->yfinance) (1.15.0)\n",
            "Requirement already satisfied: urllib3<1.27,>=1.21.1 in /usr/local/lib/python3.7/dist-packages (from requests>=2.26->yfinance) (1.24.3)\n",
            "Requirement already satisfied: charset-normalizer<3,>=2 in /usr/local/lib/python3.7/dist-packages (from requests>=2.26->yfinance) (2.1.1)\n",
            "Requirement already satisfied: certifi>=2017.4.17 in /usr/local/lib/python3.7/dist-packages (from requests>=2.26->yfinance) (2022.9.24)\n",
            "Requirement already satisfied: idna<4,>=2.5 in /usr/local/lib/python3.7/dist-packages (from requests>=2.26->yfinance) (2.10)\n",
            "Installing collected packages: requests, yfinance\n",
            "  Attempting uninstall: requests\n",
            "    Found existing installation: requests 2.23.0\n",
            "    Uninstalling requests-2.23.0:\n",
            "      Successfully uninstalled requests-2.23.0\n",
            "Successfully installed requests-2.28.1 yfinance-0.1.85\n"
          ]
        },
        {
          "output_type": "display_data",
          "data": {
            "application/vnd.colab-display-data+json": {
              "pip_warning": {
                "packages": [
                  "requests"
                ]
              }
            }
          },
          "metadata": {}
        }
      ]
    }
  ]
}